{
  "nbformat": 4,
  "nbformat_minor": 0,
  "metadata": {
    "colab": {
      "provenance": [],
      "authorship_tag": "ABX9TyMvyo6qmnUHZbwL/FMZiErl"
    },
    "kernelspec": {
      "name": "python3",
      "display_name": "Python 3"
    },
    "language_info": {
      "name": "python"
    }
  },
  "cells": [
    {
      "cell_type": "markdown",
      "source": [
        "# Bibliotecas"
      ],
      "metadata": {
        "id": "V3kA99T43BUF"
      }
    },
    {
      "cell_type": "code",
      "execution_count": 39,
      "metadata": {
        "id": "UL0QeCnM2zKD"
      },
      "outputs": [],
      "source": [
        "import json\n",
        "import time\n",
        "import json\n",
        "import os\n",
        "import requests"
      ]
    },
    {
      "cell_type": "markdown",
      "source": [
        "# Funções de Get"
      ],
      "metadata": {
        "id": "MuFNKF4qfHKT"
      }
    },
    {
      "cell_type": "code",
      "source": [
        "def gettoken(tburl,username,password):\n",
        "    headers = {'Content-Type': 'application/json', 'Accept': 'application/json'}\n",
        "    r = requests.post( \"{}/api/auth/login\".format(tburl), data=json.dumps({'username': username, 'password': password}), headers=headers)\n",
        "    if r.status_code == 200:\n",
        "        data = json.loads(r.text)\n",
        "        return \"Bearer {}\".format(data['token'])\n",
        "    else:\n",
        "        print(\"GetToke error \" + r.text)\n",
        "        return False\n",
        "\n",
        "def getdevices(tburl,token,pagesize,page):\n",
        "    headers = {'Accept': 'application/json', 'X-Authorization' : token}\n",
        "    r = requests.get( \"{}/api/tenant/devices?pageSize={}&page={}\".format(tburl,pagesize,page), params={'limit': 1000}, headers=headers)\n",
        "    if r.status_code == 200:\n",
        "        data = json.loads(r.text)\n",
        "        print(data)\n",
        "        with open('./output/dataDevices.json', 'w', encoding='utf-8') as f:\n",
        "            json.dump(data, f, ensure_ascii=False, indent=4)\n",
        "        return data['data']\n",
        "    else:\n",
        "        print(f\"StatusCode: {r.status_code}\")\n",
        "        print(\"GetDevices error: \" + r.text)\n",
        "        return False\n",
        "\n",
        "def getcustomers(tburl,customerId,token,pagesize,page):\n",
        "    headers = {'Accept': 'application/json', 'X-Authorization' : token}\n",
        "    r = requests.get( \"{}/api/customer/{}/devices?pageSize={}&page={}\".format(tburl,customerId,pagesize,page), params={'limit': 1000}, headers=headers)\n",
        "    if r.status_code == 200:\n",
        "        data = json.loads(r.text)\n",
        "        with open('./output/dataCustomers.json', 'w', encoding='utf-8') as f:\n",
        "            json.dump(data, f, ensure_ascii=False, indent=4)\n",
        "        return data['data']\n",
        "    else:\n",
        "        print(\"GetCustomers error \" + r.text)\n",
        "        return False\n",
        "\n",
        "def getTimeSeriesKeys(tburl,customerId,token):\n",
        "    headers = {'Accept': 'application/json', 'X-Authorization' : token}\n",
        "    r = requests.get( \"{}/api/plugins/telemetry/DEVICE/{}/keys/timeseries\".format(tburl,customerId), params={'limit': 1000}, headers=headers)\n",
        "    if r.status_code == 200:\n",
        "        data = json.loads(r.text)\n",
        "        with open('./output/dataTimeSeriesKeys.json', 'w', encoding='utf-8') as f:\n",
        "            json.dump(data, f, ensure_ascii=False, indent=4)\n",
        "        return data\n",
        "    else:\n",
        "        print(\"GetTimeSeriesKeys error \" + r.text)\n",
        "        return False\n",
        "\n",
        "def getTimeSeriesData(tburl,customerId,token,keys,startts,endts):\n",
        "    headers = {'Accept': 'application/json', 'X-Authorization' : token}\n",
        "    r = requests.get(\"{}/api/plugins/telemetry/DEVICE/{}/values/timeseries?keys={}&startTs={}&endTs={}\".format(tburl,customerId,keys,startts,endts), params={'limit': 1000}, headers=headers)\n",
        "    if r.status_code == 200:\n",
        "        data = json.loads(r.text)\n",
        "        with open('./output/dataTimeSeriesData.json', 'w', encoding='utf-8') as f:\n",
        "            json.dump(data, f, ensure_ascii=False, indent=4)\n",
        "        return data\n",
        "    else:\n",
        "        print(\"GetTimeSeriesData error \" + r.text)\n",
        "        return False\n",
        "\n",
        "def getUsers(tburl,token,pagesize,page):\n",
        "    headers = {'Accept': 'application/json', 'X-Authorization' : token}\n",
        "    r = requests.get(\"{}/api/users?pageSize={}&page={}\".format(tburl,pagesize,page), params={'limit': 1000}, headers=headers)\n",
        "    if r.status_code == 200:\n",
        "        data = json.loads(r.text)\n",
        "        with open('./output/dataUsers.json', 'w', encoding='utf-8') as f:\n",
        "            json.dump(data, f, ensure_ascii=False, indent=4)\n",
        "        return data['data']\n",
        "    else:\n",
        "        print(\"GetUsersData error \" + r.text)\n",
        "        return False\n",
        "\n",
        "def getUserbyId(tburl,token,userid):\n",
        "    headers = {'Accept': 'application/json', 'X-Authorization' : token}\n",
        "    r = requests.get(\"{}/api/user/{}\".format(tburl,userid), params={'limit': 1000}, headers=headers)\n",
        "    if r.status_code == 200:\n",
        "        data = json.loads(r.text)\n",
        "        with open('./output/dataUserById.json', 'w', encoding='utf-8') as f:\n",
        "            json.dump(data, f, ensure_ascii=False, indent=4)\n",
        "        return data\n",
        "    else:\n",
        "        print(\"GetUserById error \" + r.text)\n",
        "        return False\n",
        "\n",
        "if __name__ == \"__main__\":\n",
        "    _TBURL = \"http://dominio:8080\"\n",
        "    _TBUSER = \"modelo@dominio.com\"\n",
        "    _TBPWD = \"senha\"\n",
        "    _CUSTOMERID = \"***\"\n",
        "    _USERID = \"***\"\n",
        "    keys = \"pt\"\n",
        "    start = \"000\"\n",
        "    end = \"000\"\n",
        "    pageSize = 10\n",
        "    pageInit = 0\n",
        "\n",
        "    token = gettoken(_TBURL,_TBUSER,_TBPWD)\n",
        "    getdevices(_TBURL,token,pageSize,pageInit)\n",
        "    getcustomers(_TBURL,_CUSTOMERID,token,pageSize,pageInit)\n",
        "    timeSeriesKeys = getTimeSeriesKeys(_TBURL,_CUSTOMERID,token)\n",
        "    getTimeSeriesData(_TBURL,_CUSTOMERID,token,keys,start,end)\n",
        "    getUsers(_TBURL,token,pageSize,pageInit)\n",
        "    getUserbyId(_TBURL,token,_USERID)\n",
        "\n"
      ],
      "metadata": {
        "id": "NcbTLh1N8Uki"
      },
      "execution_count": 54,
      "outputs": []
    }
  ]
}